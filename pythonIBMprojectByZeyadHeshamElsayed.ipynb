{
 "cells": [
  {
   "cell_type": "code",
   "execution_count": 17,
   "id": "832bb694",
   "metadata": {},
   "outputs": [
    {
     "name": "stdout",
     "output_type": "stream",
     "text": [
      "Requirement already satisfied: yfinance in c:\\users\\ziad\\appdata\\roaming\\python\\python310\\site-packages (0.2.40)\n",
      "Requirement already satisfied: pandas>=1.3.0 in c:\\users\\ziad\\appdata\\roaming\\python\\python310\\site-packages (from yfinance) (2.2.2)\n",
      "Requirement already satisfied: numpy>=1.16.5 in c:\\users\\ziad\\appdata\\roaming\\python\\python310\\site-packages (from yfinance) (1.26.4)\n",
      "Requirement already satisfied: requests>=2.31 in c:\\users\\ziad\\appdata\\roaming\\python\\python310\\site-packages (from yfinance) (2.32.3)\n",
      "Requirement already satisfied: multitasking>=0.0.7 in c:\\users\\ziad\\appdata\\roaming\\python\\python310\\site-packages (from yfinance) (0.0.11)\n",
      "Requirement already satisfied: lxml>=4.9.1 in c:\\users\\ziad\\appdata\\roaming\\python\\python310\\site-packages (from yfinance) (5.2.2)\n",
      "Requirement already satisfied: platformdirs>=2.0.0 in c:\\users\\ziad\\appdata\\roaming\\python\\python310\\site-packages (from yfinance) (4.2.2)\n",
      "Requirement already satisfied: pytz>=2022.5 in c:\\users\\ziad\\appdata\\roaming\\python\\python310\\site-packages (from yfinance) (2024.1)\n",
      "Requirement already satisfied: frozendict>=2.3.4 in c:\\users\\ziad\\appdata\\roaming\\python\\python310\\site-packages (from yfinance) (2.4.4)\n",
      "Requirement already satisfied: peewee>=3.16.2 in c:\\users\\ziad\\appdata\\roaming\\python\\python310\\site-packages (from yfinance) (3.17.6)\n",
      "Requirement already satisfied: beautifulsoup4>=4.11.1 in c:\\users\\ziad\\appdata\\roaming\\python\\python310\\site-packages (from yfinance) (4.12.3)\n",
      "Requirement already satisfied: html5lib>=1.1 in c:\\users\\ziad\\appdata\\roaming\\python\\python310\\site-packages (from yfinance) (1.1)\n",
      "Requirement already satisfied: soupsieve>1.2 in c:\\users\\ziad\\appdata\\roaming\\python\\python310\\site-packages (from beautifulsoup4>=4.11.1->yfinance) (2.5)\n",
      "Requirement already satisfied: six>=1.9 in c:\\users\\ziad\\appdata\\roaming\\python\\python310\\site-packages (from html5lib>=1.1->yfinance) (1.16.0)\n",
      "Requirement already satisfied: webencodings in c:\\users\\ziad\\appdata\\roaming\\python\\python310\\site-packages (from html5lib>=1.1->yfinance) (0.5.1)\n",
      "Requirement already satisfied: python-dateutil>=2.8.2 in c:\\users\\ziad\\appdata\\roaming\\python\\python310\\site-packages (from pandas>=1.3.0->yfinance) (2.9.0.post0)\n",
      "Requirement already satisfied: tzdata>=2022.7 in c:\\users\\ziad\\appdata\\roaming\\python\\python310\\site-packages (from pandas>=1.3.0->yfinance) (2024.1)\n",
      "Requirement already satisfied: charset-normalizer<4,>=2 in c:\\users\\ziad\\appdata\\roaming\\python\\python310\\site-packages (from requests>=2.31->yfinance) (3.3.2)\n",
      "Requirement already satisfied: idna<4,>=2.5 in c:\\users\\ziad\\appdata\\roaming\\python\\python310\\site-packages (from requests>=2.31->yfinance) (3.7)\n",
      "Requirement already satisfied: urllib3<3,>=1.21.1 in c:\\users\\ziad\\appdata\\roaming\\python\\python310\\site-packages (from requests>=2.31->yfinance) (2.2.2)\n",
      "Requirement already satisfied: certifi>=2017.4.17 in c:\\users\\ziad\\appdata\\roaming\\python\\python310\\site-packages (from requests>=2.31->yfinance) (2024.7.4)\n",
      "Requirement already satisfied: pandas in c:\\users\\ziad\\appdata\\roaming\\python\\python310\\site-packages (2.2.2)\n",
      "Requirement already satisfied: numpy>=1.22.4 in c:\\users\\ziad\\appdata\\roaming\\python\\python310\\site-packages (from pandas) (1.26.4)\n",
      "Requirement already satisfied: python-dateutil>=2.8.2 in c:\\users\\ziad\\appdata\\roaming\\python\\python310\\site-packages (from pandas) (2.9.0.post0)\n",
      "Requirement already satisfied: pytz>=2020.1 in c:\\users\\ziad\\appdata\\roaming\\python\\python310\\site-packages (from pandas) (2024.1)\n",
      "Requirement already satisfied: tzdata>=2022.7 in c:\\users\\ziad\\appdata\\roaming\\python\\python310\\site-packages (from pandas) (2024.1)\n",
      "Requirement already satisfied: six>=1.5 in c:\\users\\ziad\\appdata\\roaming\\python\\python310\\site-packages (from python-dateutil>=2.8.2->pandas) (1.16.0)\n",
      "Requirement already satisfied: requests in c:\\users\\ziad\\appdata\\roaming\\python\\python310\\site-packages (2.32.3)\n",
      "Requirement already satisfied: charset-normalizer<4,>=2 in c:\\users\\ziad\\appdata\\roaming\\python\\python310\\site-packages (from requests) (3.3.2)\n",
      "Requirement already satisfied: idna<4,>=2.5 in c:\\users\\ziad\\appdata\\roaming\\python\\python310\\site-packages (from requests) (3.7)\n",
      "Requirement already satisfied: urllib3<3,>=1.21.1 in c:\\users\\ziad\\appdata\\roaming\\python\\python310\\site-packages (from requests) (2.2.2)\n",
      "Requirement already satisfied: certifi>=2017.4.17 in c:\\users\\ziad\\appdata\\roaming\\python\\python310\\site-packages (from requests) (2024.7.4)\n",
      "Requirement already satisfied: bs4 in c:\\users\\ziad\\appdata\\roaming\\python\\python310\\site-packages (0.0.2)\n",
      "Requirement already satisfied: beautifulsoup4 in c:\\users\\ziad\\appdata\\roaming\\python\\python310\\site-packages (from bs4) (4.12.3)\n",
      "Requirement already satisfied: soupsieve>1.2 in c:\\users\\ziad\\appdata\\roaming\\python\\python310\\site-packages (from beautifulsoup4->bs4) (2.5)\n",
      "Requirement already satisfied: plotly in c:\\users\\ziad\\appdata\\roaming\\python\\python310\\site-packages (5.22.0)\n",
      "Requirement already satisfied: tenacity>=6.2.0 in c:\\users\\ziad\\appdata\\roaming\\python\\python310\\site-packages (from plotly) (8.5.0)\n",
      "Requirement already satisfied: packaging in c:\\users\\ziad\\appdata\\roaming\\python\\python310\\site-packages (from plotly) (24.0)\n"
     ]
    }
   ],
   "source": [
    "!pip install yfinance\n",
    "!pip install pandas\n",
    "!pip install requests\n",
    "!pip install bs4\n",
    "!pip install plotly\n"
   ]
  },
  {
   "cell_type": "code",
   "execution_count": 26,
   "id": "7671deaa",
   "metadata": {},
   "outputs": [],
   "source": [
    "# Import necessary libraries\n",
    "import yfinance as yf\n",
    "import pandas as pd\n",
    "import requests\n",
    "from bs4 import BeautifulSoup\n",
    "import plotly.graph_objects as go\n",
    "import warnings\n",
    "warnings.filterwarnings(\"ignore\")"
   ]
  },
  {
   "cell_type": "code",
   "execution_count": 27,
   "id": "95cde0f2",
   "metadata": {},
   "outputs": [],
   "source": [
    "# Function to plot stock data\n",
    "def make_graph(stock_data, revenue_data, stock_name):\n",
    "    fig = go.Figure()\n",
    "    \n",
    "    fig.add_trace(go.Scatter(x=stock_data['Date'], y=stock_data['Close'], name=\"Stock Price\"))\n",
    "    fig.add_trace(go.Scatter(x=revenue_data['Date'], y=revenue_data['Revenue'], name=\"Revenue\", yaxis=\"y2\"))\n",
    "\n",
    "    fig.update_layout(\n",
    "        title=f\"{stock_name} Stock Price and Revenue\",\n",
    "        yaxis=dict(\n",
    "            title=\"Stock Price\",\n",
    "            titlefont=dict(\n",
    "                color=\"#1f77b4\"\n",
    "            ),\n",
    "            tickfont=dict(\n",
    "                color=\"#1f77b4\"\n",
    "            )\n",
    "        ),\n",
    "        yaxis2=dict(\n",
    "            title=\"Revenue\",\n",
    "            titlefont=dict(\n",
    "                color=\"#ff7f0e\"\n",
    "            ),\n",
    "            tickfont=dict(\n",
    "                color=\"#ff7f0e\"\n",
    "            ),\n",
    "            anchor=\"x\",\n",
    "            overlaying=\"y\",\n",
    "            side=\"right\"\n",
    "        )\n",
    "    )\n",
    "\n",
    "    fig.show()"
   ]
  },
  {
   "cell_type": "code",
   "execution_count": 28,
   "id": "034834ca",
   "metadata": {},
   "outputs": [
    {
     "name": "stderr",
     "output_type": "stream",
     "text": [
      "[*********************100%%**********************]  1 of 1 completed"
     ]
    },
    {
     "name": "stdout",
     "output_type": "stream",
     "text": [
      "        Date      Open      High       Low     Close  Adj Close     Volume\n",
      "0 2010-06-29  1.266667  1.666667  1.169333  1.592667   1.592667  281494500\n",
      "1 2010-06-30  1.719333  2.028000  1.553333  1.588667   1.588667  257806500\n",
      "2 2010-07-01  1.666667  1.728000  1.351333  1.464000   1.464000  123282000\n",
      "3 2010-07-02  1.533333  1.540000  1.247333  1.280000   1.280000   77097000\n",
      "4 2010-07-06  1.333333  1.333333  1.055333  1.074000   1.074000  103003500\n"
     ]
    },
    {
     "name": "stderr",
     "output_type": "stream",
     "text": [
      "\n"
     ]
    }
   ],
   "source": [
    "# Question 1: Extract Tesla stock data using yfinance\n",
    "# Download Tesla stock data from Yahoo Finance\n",
    "tesla_data = yf.download('TSLA', start='2010-01-01', end='2021-12-31')\n",
    "\n",
    "# Reset index to make 'Date' a column instead of the index\n",
    "tesla_data.reset_index(inplace=True)\n",
    "\n",
    "# Display the first five rows of the Tesla stock data\n",
    "print(tesla_data.head())"
   ]
  },
  {
   "cell_type": "code",
   "execution_count": 29,
   "id": "e05cd6fa",
   "metadata": {},
   "outputs": [
    {
     "name": "stdout",
     "output_type": "stream",
     "text": [
      "No tables found on the Tesla revenue page.\n"
     ]
    }
   ],
   "source": [
    "# Question 2: Extract Tesla revenue data using web scraping\n",
    "# URL containing Tesla revenue data\n",
    "url_tesla = \"https://cf-courses-data.s3.us.cloud-object-storage.appdomain.cloud/IBMDeveloperSkillsNetwork-PY0220EN-SkillsNetwork/labs/project/tesla_revenue.html\"\n",
    "\n",
    "# Fetch the HTML content from the URL\n",
    "html_data_tesla = requests.get(url_tesla).text\n",
    "\n",
    "# Parse the HTML content using BeautifulSoup\n",
    "soup_tesla = BeautifulSoup(html_data_tesla, 'html5lib')\n",
    "\n",
    "# Check if there are any tables in the parsed HTML\n",
    "tables = soup_tesla.find_all(\"table\")\n",
    "if len(tables) == 0:\n",
    "    print(\"No tables found on the Tesla revenue page.\")\n",
    "else:\n",
    "    # Extract the first table found\n",
    "    tesla_revenue_table = tables[0]\n",
    "    \n",
    "    # Convert the HTML table to a pandas DataFrame\n",
    "    tesla_revenue = pd.read_html(str(tesla_revenue_table))[0]\n",
    "    \n",
    "    # Display the last five rows of the Tesla revenue data\n",
    "    print(tesla_revenue.tail())"
   ]
  },
  {
   "cell_type": "code",
   "execution_count": 30,
   "id": "c14905fb",
   "metadata": {},
   "outputs": [
    {
     "name": "stderr",
     "output_type": "stream",
     "text": [
      "[*********************100%%**********************]  1 of 1 completed"
     ]
    },
    {
     "name": "stdout",
     "output_type": "stream",
     "text": [
      "        Date    Open    High     Low   Close  Adj Close     Volume\n",
      "0 2010-01-04  5.5175  5.7375  5.5000  5.7250   3.854644   26702800\n",
      "1 2010-01-05  5.7275  5.9350  5.7250  5.8800   3.959005   21269600\n",
      "2 2010-01-06  5.8650  6.0250  5.8050  6.0075   4.044851   21471200\n",
      "3 2010-01-07  5.0025  5.2925  4.8550  5.1150   3.443930  164761200\n",
      "4 2010-01-08  5.1600  5.3075  5.0575  5.0725   3.415316   47872400\n"
     ]
    },
    {
     "name": "stderr",
     "output_type": "stream",
     "text": [
      "\n"
     ]
    }
   ],
   "source": [
    "# Question 3: Extract GameStop stock data using yfinance\n",
    "# Download GameStop stock data from Yahoo Finance\n",
    "gme_data = yf.download('GME', start='2010-01-01', end='2021-12-31')\n",
    "\n",
    "# Reset index to make 'Date' a column instead of the index\n",
    "gme_data.reset_index(inplace=True)\n",
    "\n",
    "# Display the first five rows of the GameStop stock data\n",
    "print(gme_data.head())"
   ]
  },
  {
   "cell_type": "code",
   "execution_count": 31,
   "id": "1c9436f6",
   "metadata": {},
   "outputs": [
    {
     "name": "stdout",
     "output_type": "stream",
     "text": [
      "No tables found on the GameStop revenue page.\n"
     ]
    }
   ],
   "source": [
    "# Question 4: Extract GameStop revenue data using web scraping\n",
    "# URL containing GameStop revenue data\n",
    "url_gme = \"https://cf-courses-data.s3.us.cloud-object-storage.appdomain.cloud/IBMDeveloperSkillsNetwork-PY0220EN-SkillsNetwork/labs/project/gme_revenue.html\"\n",
    "\n",
    "# Fetch the HTML content from the URL\n",
    "html_data_gme = requests.get(url_gme).text\n",
    "\n",
    "# Parse the HTML content using BeautifulSoup\n",
    "soup_gme = BeautifulSoup(html_data_gme, 'html5lib')\n",
    "\n",
    "# Check if there are any tables in the parsed HTML\n",
    "tables_gme = soup_gme.find_all(\"table\")\n",
    "if len(tables_gme) == 0:\n",
    "    print(\"No tables found on the GameStop revenue page.\")\n",
    "else:\n",
    "    # Extract the first table found\n",
    "    gme_revenue_table = tables_gme[0]\n",
    "    \n",
    "    # Convert the HTML table to a pandas DataFrame\n",
    "    gme_revenue = pd.read_html(str(gme_revenue_table))[0]\n",
    "    \n",
    "    # Display the last five rows of the GameStop revenue data\n",
    "    print(gme_revenue.tail())"
   ]
  },
  {
   "cell_type": "code",
   "execution_count": 32,
   "id": "93e214ce",
   "metadata": {},
   "outputs": [],
   "source": [
    "# Question 5: Plot Tesla stock data and revenue\n",
    "# Plot Tesla stock data and revenue data if the tables were successfully extracted\n",
    "if len(tables) > 0:\n",
    "    make_graph(tesla_data, tesla_revenue, 'Tesla')"
   ]
  },
  {
   "cell_type": "code",
   "execution_count": 33,
   "id": "97736343",
   "metadata": {},
   "outputs": [],
   "source": [
    "# Question 6: Plot GameStop stock data and revenue\n",
    "# Plot GameStop stock data and revenue data if the tables were successfully extracted\n",
    "if len(tables_gme) > 0:\n",
    "    make_graph(gme_data, gme_revenue, 'GameStop')"
   ]
  },
  {
   "cell_type": "code",
   "execution_count": null,
   "id": "2b83bcea",
   "metadata": {},
   "outputs": [],
   "source": []
  }
 ],
 "metadata": {
  "kernelspec": {
   "display_name": "Python 3 (ipykernel)",
   "language": "python",
   "name": "python3"
  },
  "language_info": {
   "codemirror_mode": {
    "name": "ipython",
    "version": 3
   },
   "file_extension": ".py",
   "mimetype": "text/x-python",
   "name": "python",
   "nbconvert_exporter": "python",
   "pygments_lexer": "ipython3",
   "version": "3.10.9"
  }
 },
 "nbformat": 4,
 "nbformat_minor": 5
}
